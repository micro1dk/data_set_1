{
 "cells": [
  {
   "cell_type": "code",
   "execution_count": 80,
   "metadata": {},
   "outputs": [],
   "source": [
    "import pandas as pd\n",
    "import numpy as np\n",
    "import matplotlib as mpl\n",
    "import matplotlib.pyplot as plt\n",
    "import matplotlib.font_manager as fm\n",
    "\n",
    "# 그래프에서 마이너스 폰트 깨지는 문제에 대한 대처\n",
    "mpl.rcParams['axes.unicode_minus'] = False\n",
    "\n",
    "path = 'C:\\\\Windows\\\\Fonts\\\\NanumBarunGothic.ttf'\n",
    "font_name = fm.FontProperties(fname=path, size=50).get_name()\n",
    "plt.rc('font', family=font_name)\n",
    "\n",
    "csv_folder = 'csv_files'"
   ]
  },
  {
   "cell_type": "markdown",
   "metadata": {},
   "source": [
    "## 출원인 1인당 평균 출원건수\n",
    "\n",
    "* 국내개인 출원인의 1인당 평균 출원건수 / 년도별 \n",
    "* 국내법인 출원인의 1인당 평균 출원건수 / 년도별"
   ]
  },
  {
   "cell_type": "code",
   "execution_count": 3,
   "metadata": {},
   "outputs": [],
   "source": [
    "df = pd.read_csv(f'{csv_folder}/APPLICANT_16_to_19.csv')\n",
    "\n",
    "# 출원인코드 앞자리 1또는 4  (국내개인, 국내법인)\n",
    "df = df[(df['시도국적코드명'] == '대한민국') \n",
    "        & ((df['출원인코드'] // 100000000000 == 1)\n",
    "            | (df['출원인코드'] // 100000000000 == 4))]"
   ]
  },
  {
   "cell_type": "code",
   "execution_count": 4,
   "metadata": {},
   "outputs": [],
   "source": [
    "# 그 해의 년도 column 추가\n",
    "df['출원년도'] = df['출원번호'] // 10000000 - 400000\n",
    "\n",
    "# 출원유형 column 추가\n",
    "df['출원유형'] =  ['국내개인' if s // 100000000000 == 1 else '국내법인' for s in df['출원인코드']]"
   ]
  },
  {
   "cell_type": "code",
   "execution_count": 7,
   "metadata": {},
   "outputs": [],
   "source": [
    "group = df.groupby(['출원년도', '출원유형', '출원인코드'])"
   ]
  },
  {
   "cell_type": "code",
   "execution_count": 8,
   "metadata": {
    "scrolled": false
   },
   "outputs": [
    {
     "data": {
      "text/html": [
       "<div>\n",
       "<style scoped>\n",
       "    .dataframe tbody tr th:only-of-type {\n",
       "        vertical-align: middle;\n",
       "    }\n",
       "\n",
       "    .dataframe tbody tr th {\n",
       "        vertical-align: top;\n",
       "    }\n",
       "\n",
       "    .dataframe thead th {\n",
       "        text-align: right;\n",
       "    }\n",
       "</style>\n",
       "<table border=\"1\" class=\"dataframe\">\n",
       "  <thead>\n",
       "    <tr style=\"text-align: right;\">\n",
       "      <th></th>\n",
       "      <th></th>\n",
       "      <th></th>\n",
       "      <th>count</th>\n",
       "    </tr>\n",
       "    <tr>\n",
       "      <th>출원년도</th>\n",
       "      <th>출원유형</th>\n",
       "      <th>출원인코드</th>\n",
       "      <th></th>\n",
       "    </tr>\n",
       "  </thead>\n",
       "  <tbody>\n",
       "    <tr>\n",
       "      <th rowspan=\"5\" valign=\"top\">2016</th>\n",
       "      <th rowspan=\"5\" valign=\"top\">국내개인</th>\n",
       "      <th>119950098299</th>\n",
       "      <td>6</td>\n",
       "    </tr>\n",
       "    <tr>\n",
       "      <th>119980002501</th>\n",
       "      <td>8</td>\n",
       "    </tr>\n",
       "    <tr>\n",
       "      <th>119980010211</th>\n",
       "      <td>1</td>\n",
       "    </tr>\n",
       "    <tr>\n",
       "      <th>119980015550</th>\n",
       "      <td>11</td>\n",
       "    </tr>\n",
       "    <tr>\n",
       "      <th>119980016467</th>\n",
       "      <td>3</td>\n",
       "    </tr>\n",
       "  </tbody>\n",
       "</table>\n",
       "</div>"
      ],
      "text/plain": [
       "                        count\n",
       "출원년도 출원유형 출원인코드              \n",
       "2016 국내개인 119950098299      6\n",
       "          119980002501      8\n",
       "          119980010211      1\n",
       "          119980015550     11\n",
       "          119980016467      3"
      ]
     },
     "execution_count": 8,
     "metadata": {},
     "output_type": "execute_result"
    }
   ],
   "source": [
    "gc = group['출원인코드'].agg(['count'])\n",
    "gc.head()"
   ]
  },
  {
   "cell_type": "code",
   "execution_count": 64,
   "metadata": {
    "scrolled": true
   },
   "outputs": [
    {
     "name": "stdout",
     "output_type": "stream",
     "text": [
      "[5.95 4.01 1.63 1.95] [5. 2. 2. 2.]\n"
     ]
    }
   ],
   "source": [
    "average_by_year = gc.groupby(['출원유형', '출원년도']).mean()\n",
    "average_by_year = average_by_year.values\n",
    "\n",
    "individual = []\n",
    "corporation = []\n",
    "years = list(set(df['출원년도'].astype('int')))\n",
    "\n",
    "# print(average_by_year[1])\n",
    "for i in range(len(years)):\n",
    "    individual.append(round(average_by_year[2*i][0], 2))\n",
    "    corporation.append(round(average_by_year[2*i + 1][0]))\n",
    "\n",
    "individual = np.array(individual)\n",
    "corporation = np.array(corporation)\n",
    "print(individual, corporation)"
   ]
  },
  {
   "cell_type": "code",
   "execution_count": 86,
   "metadata": {},
   "outputs": [
    {
     "data": {
      "image/png": "[encoded data removed]",
      "text/plain": [
       "<Figure size 576x432 with 1 Axes>"
      ]
     },
     "metadata": {
      "needs_background": "light"
     },
     "output_type": "display_data"
    }
   ],
   "source": [
    "# function to add value labels\n",
    "def add_labels(ax, x, y):\n",
    "    for i in range(len(x)):\n",
    "        ax.text(x[i], y[i] + 0.1, y[i], ha = 'center', fontsize=12)\n",
    "\n",
    "x = np.array(years)\n",
    "labels = [2016, 2017, 2018, 2019]\n",
    "width = 0.35\n",
    "alpha = 0.5\n",
    "\n",
    "fig, ax = plt.subplots(figsize=(8, 6))\n",
    "rects1 = ax.bar(x - width/2, individual, \n",
    "             width, \n",
    "             color='b', \n",
    "             alpha=alpha,\n",
    "             label='국내개인')\n",
    "\n",
    "rects2 = ax.bar(x + width/2, corporation, \n",
    "             width,\n",
    "             color='r', \n",
    "             alpha=alpha,\n",
    "             label='국내법인')\n",
    "\n",
    "ax.set_title('출원인 1인당 평균 출원건수', fontsize=18)\n",
    "ax.set_xlabel('년도')\n",
    "ax.set_ylabel('평균 출원건수')\n",
    "\n",
    "ax.set_xticks(x)\n",
    "ax.set_xticklabels(labels)\n",
    "add_labels(ax, x - width/2, individual)\n",
    "add_labels(ax, x + width/2, corporation)\n",
    "ax.legend()\n",
    "\n",
    "fig.tight_layout()\n",
    "plt.show()"
   ]
  }
 ],
 "metadata": {
  "kernelspec": {
   "display_name": "Python 3",
   "language": "python",
   "name": "python3"
  },
  "language_info": {
   "codemirror_mode": {
    "name": "ipython",
    "version": 3
   },
   "file_extension": ".py",
   "mimetype": "text/x-python",
   "name": "python",
   "nbconvert_exporter": "python",
   "pygments_lexer": "ipython3",
   "version": "3.7.3"
  }
 },
 "nbformat": 4,
 "nbformat_minor": 2
}
