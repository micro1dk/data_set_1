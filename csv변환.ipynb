{
 "cells": [
  {
   "cell_type": "code",
   "execution_count": 51,
   "metadata": {},
   "outputs": [],
   "source": [
    "import pandas as pd\n",
    "import numpy as np\n",
    "\n",
    "txt_folder = 'txt_files'\n",
    "csv_folder = 'csv_files'\n",
    "separation = '^B'\n",
    "filenames = ['AGENT', 'APPLICANT', 'TB_KT10', 'TB_KT15']"
   ]
  },
  {
   "cell_type": "code",
   "execution_count": 35,
   "metadata": {},
   "outputs": [],
   "source": [
    "def convert_txt_to_csv(filename_list):\n",
    "    for filename in filename_list:\n",
    "        f = open(f'{txt_folder}/{filename}.txt', 'r', encoding='utf-8')\n",
    "        lines = f.readlines()\n",
    "        \n",
    "        header = lines[0].split(separation)\n",
    "        header[-1] = header[-1].strip('\\n')\n",
    "        \n",
    "        data = []\n",
    "        for i in range(1, len(lines)):\n",
    "            line = lines[i]\n",
    "            one = line.split(separation)\n",
    "            one[-1] = one[-1].strip('\\n')\n",
    "            data.append(one)\n",
    "            \n",
    "        df = pd.DataFrame(data, columns=header)\n",
    "        df.to_csv(f'{csv_folder}/{filename}.csv', index=False)"
   ]
  },
  {
   "cell_type": "code",
   "execution_count": 53,
   "metadata": {},
   "outputs": [],
   "source": [
    "def filtering_and_save(filename_list):\n",
    "    for filename in filename_list:\n",
    "        df = pd.read_csv(f'{csv_folder}/{filename}.csv')\n",
    "\n",
    "        df = df[(df['출원번호'] >= 4020160000000) & (df['출원번호'] < 4020200000000)]\n",
    "        df.to_csv(f'{csv_folder}/{filename}_16_to_19.csv', index=False)"
   ]
  },
  {
   "cell_type": "code",
   "execution_count": 38,
   "metadata": {},
   "outputs": [],
   "source": [
    "convert_txt_to_csv(filenames)"
   ]
  },
  {
   "cell_type": "code",
   "execution_count": 54,
   "metadata": {},
   "outputs": [],
   "source": [
    "filtering_and_save(filenames)"
   ]
  }
 ],
 "metadata": {
  "kernelspec": {
   "display_name": "Python 3",
   "language": "python",
   "name": "python3"
  },
  "language_info": {
   "codemirror_mode": {
    "name": "ipython",
    "version": 3
   },
   "file_extension": ".py",
   "mimetype": "text/x-python",
   "name": "python",
   "nbconvert_exporter": "python",
   "pygments_lexer": "ipython3",
   "version": "3.7.3"
  }
 },
 "nbformat": 4,
 "nbformat_minor": 2
}
