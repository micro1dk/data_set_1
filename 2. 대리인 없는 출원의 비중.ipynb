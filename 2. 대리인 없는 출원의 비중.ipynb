{
 "cells": [
  {
   "cell_type": "code",
   "execution_count": 2,
   "metadata": {},
   "outputs": [],
   "source": [
    "import pandas as pd\n",
    "import numpy as np\n",
    "import matplotlib as mpl\n",
    "import matplotlib.pyplot as plt\n",
    "import matplotlib.font_manager as fm\n",
    "\n",
    "# 그래프에서 마이너스 폰트 깨지는 문제에 대한 대처\n",
    "mpl.rcParams['axes.unicode_minus'] = False\n",
    "\n",
    "path = 'C:\\\\Windows\\\\Fonts\\\\NanumBarunGothic.ttf'\n",
    "font_name = fm.FontProperties(fname=path, size=50).get_name()\n",
    "plt.rc('font', family=font_name)\n",
    "\n",
    "csv_folder = 'csv_files'"
   ]
  },
  {
   "cell_type": "markdown",
   "metadata": {},
   "source": [
    "## 2. 대리인 없는 출원의 비중\n",
    "\n",
    "### 2-1. 대리인 없는 출원에서 개인과 법인의 비중 년도별 변화\n",
    "* 대리인 없는 국내개인 출원 건수의 년도별 변화\n",
    "* 대리인 없는 국내법인 출원 건수의 년도별 변화"
   ]
  },
  {
   "cell_type": "code",
   "execution_count": 3,
   "metadata": {},
   "outputs": [
    {
     "data": {
      "text/html": [
       "<div>\n",
       "<style scoped>\n",
       "    .dataframe tbody tr th:only-of-type {\n",
       "        vertical-align: middle;\n",
       "    }\n",
       "\n",
       "    .dataframe tbody tr th {\n",
       "        vertical-align: top;\n",
       "    }\n",
       "\n",
       "    .dataframe thead th {\n",
       "        text-align: right;\n",
       "    }\n",
       "</style>\n",
       "<table border=\"1\" class=\"dataframe\">\n",
       "  <thead>\n",
       "    <tr style=\"text-align: right;\">\n",
       "      <th></th>\n",
       "      <th>출원번호</th>\n",
       "      <th>일련번호</th>\n",
       "      <th>시도국적코드</th>\n",
       "      <th>시도국적코드명</th>\n",
       "      <th>출원인코드</th>\n",
       "      <th>출원인명</th>\n",
       "      <th>출원인영문명</th>\n",
       "      <th>출원인우편번호</th>\n",
       "      <th>출원인주소</th>\n",
       "    </tr>\n",
       "  </thead>\n",
       "  <tbody>\n",
       "    <tr>\n",
       "      <th>0</th>\n",
       "      <td>4020160000161</td>\n",
       "      <td>1</td>\n",
       "      <td>01</td>\n",
       "      <td>대한민국</td>\n",
       "      <td>119980010211</td>\n",
       "      <td>동화약품주식회사</td>\n",
       "      <td>DONG WHA PHARM. CO., LTD.</td>\n",
       "      <td>04522</td>\n",
       "      <td>서울특별시 중구 남대문로*길 **, *-*층(다동)</td>\n",
       "    </tr>\n",
       "    <tr>\n",
       "      <th>1</th>\n",
       "      <td>4020160000891</td>\n",
       "      <td>1</td>\n",
       "      <td>03</td>\n",
       "      <td>대한민국</td>\n",
       "      <td>419980149344</td>\n",
       "      <td>안부홍</td>\n",
       "      <td>AHN, Boo Hong</td>\n",
       "      <td>06667</td>\n",
       "      <td>서울시 서초구 명달로 **길 **-* *동 *호(서초동, 동산빌라)</td>\n",
       "    </tr>\n",
       "    <tr>\n",
       "      <th>2</th>\n",
       "      <td>4020160001038</td>\n",
       "      <td>1</td>\n",
       "      <td>01</td>\n",
       "      <td>대한민국</td>\n",
       "      <td>119980002501</td>\n",
       "      <td>주식회사 케이씨씨</td>\n",
       "      <td>KCC CORPORATION</td>\n",
       "      <td>06608</td>\n",
       "      <td>서울특별시 서초구 사평대로 *** (서초동)</td>\n",
       "    </tr>\n",
       "    <tr>\n",
       "      <th>3</th>\n",
       "      <td>4020160001041</td>\n",
       "      <td>1</td>\n",
       "      <td>01</td>\n",
       "      <td>대한민국</td>\n",
       "      <td>119980002501</td>\n",
       "      <td>주식회사 케이씨씨</td>\n",
       "      <td>KCC CORPORATION</td>\n",
       "      <td>06608</td>\n",
       "      <td>서울특별시 서초구 사평대로 *** (서초동)</td>\n",
       "    </tr>\n",
       "    <tr>\n",
       "      <th>4</th>\n",
       "      <td>4020160001043</td>\n",
       "      <td>1</td>\n",
       "      <td>01</td>\n",
       "      <td>대한민국</td>\n",
       "      <td>119980002501</td>\n",
       "      <td>주식회사 케이씨씨</td>\n",
       "      <td>KCC CORPORATION</td>\n",
       "      <td>06608</td>\n",
       "      <td>서울특별시 서초구 사평대로 *** (서초동)</td>\n",
       "    </tr>\n",
       "  </tbody>\n",
       "</table>\n",
       "</div>"
      ],
      "text/plain": [
       "            출원번호  일련번호 시도국적코드 시도국적코드명         출원인코드       출원인명  \\\n",
       "0  4020160000161     1     01    대한민국  119980010211   동화약품주식회사   \n",
       "1  4020160000891     1     03    대한민국  419980149344        안부홍   \n",
       "2  4020160001038     1     01    대한민국  119980002501  주식회사 케이씨씨   \n",
       "3  4020160001041     1     01    대한민국  119980002501  주식회사 케이씨씨   \n",
       "4  4020160001043     1     01    대한민국  119980002501  주식회사 케이씨씨   \n",
       "\n",
       "                      출원인영문명 출원인우편번호                                  출원인주소  \n",
       "0  DONG WHA PHARM. CO., LTD.   04522           서울특별시 중구 남대문로*길 **, *-*층(다동)  \n",
       "1              AHN, Boo Hong   06667  서울시 서초구 명달로 **길 **-* *동 *호(서초동, 동산빌라)  \n",
       "2            KCC CORPORATION   06608               서울특별시 서초구 사평대로 *** (서초동)  \n",
       "3            KCC CORPORATION   06608               서울특별시 서초구 사평대로 *** (서초동)  \n",
       "4            KCC CORPORATION   06608               서울특별시 서초구 사평대로 *** (서초동)  "
      ]
     },
     "execution_count": 3,
     "metadata": {},
     "output_type": "execute_result"
    }
   ],
   "source": [
    "df = pd.read_csv(f'{csv_folder}/APPLICANT_16_to_19.csv')\n",
    "df_agent = pd.read_csv(f'{csv_folder}/AGENT_16_to_19.csv')\n",
    "\n",
    "df.head()"
   ]
  },
  {
   "cell_type": "code",
   "execution_count": 4,
   "metadata": {},
   "outputs": [],
   "source": [
    "# df_applicant['출원번호_대리인'] = df_agent['출원번호']\n",
    "\n",
    "df = df[(~df['출원번호'].isin(df_agent['출원번호'])) & (df['시도국적코드명'] == '대한민국')]"
   ]
  },
  {
   "cell_type": "code",
   "execution_count": 5,
   "metadata": {},
   "outputs": [],
   "source": [
    "# 그 해의 년도 column 추가\n",
    "df['출원년도'] = df['출원번호'] // 10000000 - 400000\n",
    "\n",
    "# 출원유형 column 추가\n",
    "df['출원유형'] =  ['국내법인' if s // 100000000000 == 1 else '국내개인' for s in df['출원인코드']]"
   ]
  },
  {
   "cell_type": "code",
   "execution_count": 6,
   "metadata": {},
   "outputs": [
    {
     "name": "stdout",
     "output_type": "stream",
     "text": [
      "[ 99  28 160  44 228  89 951 467]\n",
      "[ 99 160 228 951] [ 28  44  89 467] [ 127  204  317 1418]\n"
     ]
    }
   ],
   "source": [
    "gc = df.groupby(['출원년도', '출원유형'])['출원유형'].count()\n",
    "values = gc.values\n",
    "print(values)\n",
    "individual = []\n",
    "corporation = []\n",
    "all_application = [] #\n",
    "\n",
    "years = list(set(df['출원년도'].astype('int')))\n",
    "\n",
    "# print(average_by_year[1])\n",
    "for i in range(len(years)):\n",
    "    individual.append(values[2*i])\n",
    "    corporation.append(values[2*i + 1])\n",
    "    all_application.append(values[2*i] + values[2*i + 1])\n",
    "\n",
    "individual = np.array(individual)\n",
    "corporation = np.array(corporation)\n",
    "all_application = np.array(all_application)\n",
    "print(individual, corporation, all_application)"
   ]
  },
  {
   "cell_type": "code",
   "execution_count": 7,
   "metadata": {
    "scrolled": false
   },
   "outputs": [
    {
     "data": {
      "image/png": "[encoded data removed]",
      "text/plain": [
       "<Figure size 576x432 with 1 Axes>"
      ]
     },
     "metadata": {
      "needs_background": "light"
     },
     "output_type": "display_data"
    }
   ],
   "source": [
    "# function to add value labels\n",
    "def add_labels(ax, x, y, y_value):\n",
    "    for i in range(len(x)):\n",
    "        ax.text(x[i], y[i], str(y_value[i]) + '%', ha = 'center', fontsize=12)\n",
    "\n",
    "x = np.array(years)\n",
    "labels = [2016, 2017, 2018, 2019]\n",
    "width = 0.7\n",
    "alpha = 0.5\n",
    "\n",
    "totals = [i + j for i, j in zip(individual, corporation)]\n",
    "bottom = np.array([int(round(i / j * 100)) for i, j in zip(individual, totals)])\n",
    "up = np.array([int(round(i / j * 100, 0)) for i, j in zip(corporation, totals)])\n",
    "\n",
    "fig, ax = plt.subplots(figsize=(8, 6))\n",
    "rects1 = ax.bar(x, bottom, \n",
    "             width, \n",
    "             color='b', \n",
    "             alpha=alpha,\n",
    "             label='국내개인')\n",
    "\n",
    "rects2 = ax.bar(x, up, \n",
    "             width,\n",
    "             bottom=bottom,\n",
    "             color='r', \n",
    "             alpha=alpha,\n",
    "             label='국내법인')\n",
    "\n",
    "ax.set_title('대리인 없는 출원에서 개인과 법인의 비중 년도별 변화', fontsize=18)\n",
    "ax.set_xlabel('년도')\n",
    "ax.set_ylabel('비중')\n",
    "\n",
    "ax.set_xticks(x)\n",
    "ax.set_xticklabels(labels)\n",
    "\n",
    "add_labels(ax, x, bottom / 2, bottom)\n",
    "add_labels(ax, x, (bottom + (100 - bottom) / 2) , up)\n",
    "ax.legend()\n",
    "\n",
    "fig.tight_layout()\n",
    "plt.show()"
   ]
  },
  {
   "cell_type": "markdown",
   "metadata": {},
   "source": [
    "### 2-2. 년도별 대리인 없는 출원(a) vs 대리인 있는 출원 중 하기 대리인을 제외한 출원 vs 상기 대리인들의 출원을 비교."
   ]
  },
  {
   "cell_type": "code",
   "execution_count": 8,
   "metadata": {},
   "outputs": [
    {
     "data": {
      "text/html": [
       "<div>\n",
       "<style scoped>\n",
       "    .dataframe tbody tr th:only-of-type {\n",
       "        vertical-align: middle;\n",
       "    }\n",
       "\n",
       "    .dataframe tbody tr th {\n",
       "        vertical-align: top;\n",
       "    }\n",
       "\n",
       "    .dataframe thead th {\n",
       "        text-align: right;\n",
       "    }\n",
       "</style>\n",
       "<table border=\"1\" class=\"dataframe\">\n",
       "  <thead>\n",
       "    <tr style=\"text-align: right;\">\n",
       "      <th></th>\n",
       "      <th>출원번호</th>\n",
       "      <th>일련번호</th>\n",
       "      <th>시도국적코드</th>\n",
       "      <th>시도국적코드명</th>\n",
       "      <th>대리인코드</th>\n",
       "      <th>대리인명</th>\n",
       "      <th>대리인영문명</th>\n",
       "      <th>대리인우편번호</th>\n",
       "      <th>대리인주소</th>\n",
       "    </tr>\n",
       "  </thead>\n",
       "  <tbody>\n",
       "    <tr>\n",
       "      <th>0</th>\n",
       "      <td>4020160000891</td>\n",
       "      <td>1</td>\n",
       "      <td>01</td>\n",
       "      <td>대한민국</td>\n",
       "      <td>919980005582</td>\n",
       "      <td>최달용</td>\n",
       "      <td>CHOI, Dall Ryong</td>\n",
       "      <td>06653</td>\n",
       "      <td>서울시 서초구 효령로**길 **, *층(서초동, 진란회관)(최달용국제특허법률사무소)</td>\n",
       "    </tr>\n",
       "    <tr>\n",
       "      <th>1</th>\n",
       "      <td>4020160001038</td>\n",
       "      <td>1</td>\n",
       "      <td>01</td>\n",
       "      <td>대한민국</td>\n",
       "      <td>920040001239</td>\n",
       "      <td>전숙현</td>\n",
       "      <td>JEON SOOK HYUN</td>\n",
       "      <td>06252</td>\n",
       "      <td>서울특별시 강남구 역삼로 *** *층 (역삼동, 현죽빌딩)(특허법인성암)</td>\n",
       "    </tr>\n",
       "    <tr>\n",
       "      <th>2</th>\n",
       "      <td>4020160001038</td>\n",
       "      <td>2</td>\n",
       "      <td>01</td>\n",
       "      <td>대한민국</td>\n",
       "      <td>920020001891</td>\n",
       "      <td>서경민</td>\n",
       "      <td>Suh Kyung Min</td>\n",
       "      <td>06252</td>\n",
       "      <td>서울특별시 강남구 역삼로 *** *층 (역삼동, 현죽빌딩)(특허법인성암)</td>\n",
       "    </tr>\n",
       "    <tr>\n",
       "      <th>3</th>\n",
       "      <td>4020160001038</td>\n",
       "      <td>3</td>\n",
       "      <td>01</td>\n",
       "      <td>대한민국</td>\n",
       "      <td>919980002604</td>\n",
       "      <td>서만규</td>\n",
       "      <td>Suh Man Kyu</td>\n",
       "      <td>06252</td>\n",
       "      <td>서울특별시 강남구 역삼로 *** *층 (역삼동, 현죽빌딩)(특허법인성암)</td>\n",
       "    </tr>\n",
       "    <tr>\n",
       "      <th>4</th>\n",
       "      <td>4020160001041</td>\n",
       "      <td>1</td>\n",
       "      <td>01</td>\n",
       "      <td>대한민국</td>\n",
       "      <td>920040001239</td>\n",
       "      <td>전숙현</td>\n",
       "      <td>JEON SOOK HYUN</td>\n",
       "      <td>06252</td>\n",
       "      <td>서울특별시 강남구 역삼로 *** *층 (역삼동, 현죽빌딩)(특허법인성암)</td>\n",
       "    </tr>\n",
       "  </tbody>\n",
       "</table>\n",
       "</div>"
      ],
      "text/plain": [
       "            출원번호  일련번호 시도국적코드 시도국적코드명         대리인코드 대리인명            대리인영문명  \\\n",
       "0  4020160000891     1     01    대한민국  919980005582  최달용  CHOI, Dall Ryong   \n",
       "1  4020160001038     1     01    대한민국  920040001239  전숙현    JEON SOOK HYUN   \n",
       "2  4020160001038     2     01    대한민국  920020001891  서경민     Suh Kyung Min   \n",
       "3  4020160001038     3     01    대한민국  919980002604  서만규       Suh Man Kyu   \n",
       "4  4020160001041     1     01    대한민국  920040001239  전숙현    JEON SOOK HYUN   \n",
       "\n",
       "  대리인우편번호                                           대리인주소  \n",
       "0   06653  서울시 서초구 효령로**길 **, *층(서초동, 진란회관)(최달용국제특허법률사무소)  \n",
       "1   06252        서울특별시 강남구 역삼로 *** *층 (역삼동, 현죽빌딩)(특허법인성암)  \n",
       "2   06252        서울특별시 강남구 역삼로 *** *층 (역삼동, 현죽빌딩)(특허법인성암)  \n",
       "3   06252        서울특별시 강남구 역삼로 *** *층 (역삼동, 현죽빌딩)(특허법인성암)  \n",
       "4   06252        서울특별시 강남구 역삼로 *** *층 (역삼동, 현죽빌딩)(특허법인성암)  "
      ]
     },
     "execution_count": 8,
     "metadata": {},
     "output_type": "execute_result"
    }
   ],
   "source": [
    "df = pd.read_csv(f'{csv_folder}/APPLICANT_16_to_19.csv') # 재할당\n",
    "df_agent = pd.read_csv(f'{csv_folder}/AGENT_16_to_19.csv')\n",
    "df_agent.head()"
   ]
  },
  {
   "cell_type": "code",
   "execution_count": 9,
   "metadata": {},
   "outputs": [
    {
     "data": {
      "text/html": [
       "<div>\n",
       "<style scoped>\n",
       "    .dataframe tbody tr th:only-of-type {\n",
       "        vertical-align: middle;\n",
       "    }\n",
       "\n",
       "    .dataframe tbody tr th {\n",
       "        vertical-align: top;\n",
       "    }\n",
       "\n",
       "    .dataframe thead th {\n",
       "        text-align: right;\n",
       "    }\n",
       "</style>\n",
       "<table border=\"1\" class=\"dataframe\">\n",
       "  <thead>\n",
       "    <tr style=\"text-align: right;\">\n",
       "      <th></th>\n",
       "      <th>출원번호</th>\n",
       "      <th>일련번호</th>\n",
       "      <th>시도국적코드</th>\n",
       "      <th>시도국적코드명</th>\n",
       "      <th>대리인코드</th>\n",
       "      <th>대리인명</th>\n",
       "      <th>대리인영문명</th>\n",
       "      <th>대리인우편번호</th>\n",
       "      <th>대리인주소</th>\n",
       "    </tr>\n",
       "  </thead>\n",
       "  <tbody>\n",
       "    <tr>\n",
       "      <th>0</th>\n",
       "      <td>4020160000891</td>\n",
       "      <td>1</td>\n",
       "      <td>01</td>\n",
       "      <td>대한민국</td>\n",
       "      <td>919980005582</td>\n",
       "      <td>최달용</td>\n",
       "      <td>CHOI, Dall Ryong</td>\n",
       "      <td>06653</td>\n",
       "      <td>서울시 서초구 효령로**길 **, *층(서초동, 진란회관)(최달용국제특허법률사무소)</td>\n",
       "    </tr>\n",
       "    <tr>\n",
       "      <th>1</th>\n",
       "      <td>4020160001038</td>\n",
       "      <td>1</td>\n",
       "      <td>01</td>\n",
       "      <td>대한민국</td>\n",
       "      <td>920040001239</td>\n",
       "      <td>전숙현</td>\n",
       "      <td>JEON SOOK HYUN</td>\n",
       "      <td>06252</td>\n",
       "      <td>서울특별시 강남구 역삼로 *** *층 (역삼동, 현죽빌딩)(특허법인성암)</td>\n",
       "    </tr>\n",
       "    <tr>\n",
       "      <th>2</th>\n",
       "      <td>4020160001038</td>\n",
       "      <td>2</td>\n",
       "      <td>01</td>\n",
       "      <td>대한민국</td>\n",
       "      <td>920020001891</td>\n",
       "      <td>서경민</td>\n",
       "      <td>Suh Kyung Min</td>\n",
       "      <td>06252</td>\n",
       "      <td>서울특별시 강남구 역삼로 *** *층 (역삼동, 현죽빌딩)(특허법인성암)</td>\n",
       "    </tr>\n",
       "    <tr>\n",
       "      <th>3</th>\n",
       "      <td>4020160001038</td>\n",
       "      <td>3</td>\n",
       "      <td>01</td>\n",
       "      <td>대한민국</td>\n",
       "      <td>919980002604</td>\n",
       "      <td>서만규</td>\n",
       "      <td>Suh Man Kyu</td>\n",
       "      <td>06252</td>\n",
       "      <td>서울특별시 강남구 역삼로 *** *층 (역삼동, 현죽빌딩)(특허법인성암)</td>\n",
       "    </tr>\n",
       "    <tr>\n",
       "      <th>4</th>\n",
       "      <td>4020160001041</td>\n",
       "      <td>1</td>\n",
       "      <td>01</td>\n",
       "      <td>대한민국</td>\n",
       "      <td>920040001239</td>\n",
       "      <td>전숙현</td>\n",
       "      <td>JEON SOOK HYUN</td>\n",
       "      <td>06252</td>\n",
       "      <td>서울특별시 강남구 역삼로 *** *층 (역삼동, 현죽빌딩)(특허법인성암)</td>\n",
       "    </tr>\n",
       "  </tbody>\n",
       "</table>\n",
       "</div>"
      ],
      "text/plain": [
       "            출원번호  일련번호 시도국적코드 시도국적코드명         대리인코드 대리인명            대리인영문명  \\\n",
       "0  4020160000891     1     01    대한민국  919980005582  최달용  CHOI, Dall Ryong   \n",
       "1  4020160001038     1     01    대한민국  920040001239  전숙현    JEON SOOK HYUN   \n",
       "2  4020160001038     2     01    대한민국  920020001891  서경민     Suh Kyung Min   \n",
       "3  4020160001038     3     01    대한민국  919980002604  서만규       Suh Man Kyu   \n",
       "4  4020160001041     1     01    대한민국  920040001239  전숙현    JEON SOOK HYUN   \n",
       "\n",
       "  대리인우편번호                                           대리인주소  \n",
       "0   06653  서울시 서초구 효령로**길 **, *층(서초동, 진란회관)(최달용국제특허법률사무소)  \n",
       "1   06252        서울특별시 강남구 역삼로 *** *층 (역삼동, 현죽빌딩)(특허법인성암)  \n",
       "2   06252        서울특별시 강남구 역삼로 *** *층 (역삼동, 현죽빌딩)(특허법인성암)  \n",
       "3   06252        서울특별시 강남구 역삼로 *** *층 (역삼동, 현죽빌딩)(특허법인성암)  \n",
       "4   06252        서울특별시 강남구 역삼로 *** *층 (역삼동, 현죽빌딩)(특허법인성암)  "
      ]
     },
     "execution_count": 9,
     "metadata": {},
     "output_type": "execute_result"
    }
   ],
   "source": [
    "agent_list = [920141001614, 920150009821, 920200004635, 920080013076, 920080004829,\n",
    "              920050008260, 920160025058, 919980003369, 920060009347, 920120000996,\n",
    "              920000000193, 919980001687, 919980001002, 920180000325, 920010000824,\n",
    "              920160010250]\n",
    "df_agent = df_agent[(df_agent['출원번호'].isin(df['출원번호']))]\n",
    "df_agent.head()"
   ]
  },
  {
   "cell_type": "code",
   "execution_count": 10,
   "metadata": {},
   "outputs": [
    {
     "name": "stdout",
     "output_type": "stream",
     "text": [
      "[  938  1295  1447 10910]\n",
      "[  95  271  430 1532]\n"
     ]
    }
   ],
   "source": [
    "df_agent['출원년도'] = df_agent['출원번호'] // 10000000 - 400000\n",
    "\n",
    "# 대리인목록에 없는 데이터\n",
    "df_without_agent = df_agent[~df_agent['대리인코드'].isin(agent_list)]\n",
    "not_agent = df_without_agent.groupby(['출원년도'])['출원번호'].count().values\n",
    "print(not_agent)\n",
    "\n",
    "# 대리인목록에 있는 데이터\n",
    "df_with_agent = df_agent[df_agent['대리인코드'].isin(agent_list)]\n",
    "with_agent = df_with_agent.groupby(['출원년도'])['출원번호'].count().values\n",
    "print(with_agent)"
   ]
  },
  {
   "cell_type": "code",
   "execution_count": 11,
   "metadata": {},
   "outputs": [
    {
     "data": {
      "text/plain": [
       "array([ 127,  204,  317, 1418], dtype=int64)"
      ]
     },
     "execution_count": 11,
     "metadata": {},
     "output_type": "execute_result"
    }
   ],
   "source": [
    "# a. 대리인 없는 출원 총합\n",
    "all_application"
   ]
  },
  {
   "cell_type": "code",
   "execution_count": 12,
   "metadata": {},
   "outputs": [
    {
     "data": {
      "text/plain": [
       "array([  938,  1295,  1447, 10910], dtype=int64)"
      ]
     },
     "execution_count": 12,
     "metadata": {},
     "output_type": "execute_result"
    }
   ],
   "source": [
    "# b. 대리인 있는출원 중 대리인리스트에 없는 출원\n",
    "not_agent"
   ]
  },
  {
   "cell_type": "code",
   "execution_count": 13,
   "metadata": {
    "scrolled": true
   },
   "outputs": [
    {
     "data": {
      "text/plain": [
       "array([  95,  271,  430, 1532], dtype=int64)"
      ]
     },
     "execution_count": 13,
     "metadata": {},
     "output_type": "execute_result"
    }
   ],
   "source": [
    "# c. 대리인 있는출원 중 대리인리스트에 있는 출원\n",
    "with_agent"
   ]
  },
  {
   "cell_type": "code",
   "execution_count": 14,
   "metadata": {},
   "outputs": [
    {
     "data": {
      "image/png": "[encoded data removed]",
      "text/plain": [
       "<Figure size 576x432 with 1 Axes>"
      ]
     },
     "metadata": {
      "needs_background": "light"
     },
     "output_type": "display_data"
    }
   ],
   "source": [
    "x = np.array(years)\n",
    "labels = [2016, 2017, 2018, 2019]\n",
    "width = 0.25\n",
    "alpha = 0.5\n",
    "\n",
    "fig, ax = plt.subplots(figsize=(8, 6))\n",
    "rects1 = ax.bar(x - width, all_application, \n",
    "             width, \n",
    "             color='b', \n",
    "             alpha=alpha,\n",
    "             label='대리인 없는 출원 총합')\n",
    "\n",
    "rects2 = ax.bar(x, not_agent, \n",
    "             width,\n",
    "             color='r', \n",
    "             alpha=alpha,\n",
    "             label='대기인리스트 제외한 출원')\n",
    "\n",
    "rects3 = ax.bar(x + width, with_agent, \n",
    "             width,\n",
    "             color='g', \n",
    "             alpha=alpha,\n",
    "             label='대기인리스트 포함한 출원')\n",
    "\n",
    "ax.set_title('년도별 비교', fontsize=18)\n",
    "ax.set_xlabel('년도')\n",
    "ax.set_ylabel('출원건수')\n",
    "\n",
    "ax.set_xticks(x)\n",
    "ax.set_xticklabels(labels)\n",
    "# add_labels(ax, x - width/2, individual)\n",
    "# add_labels(ax, x + width/2, corporation)\n",
    "ax.legend()\n",
    "\n",
    "fig.tight_layout()\n",
    "plt.show()"
   ]
  }
 ],
 "metadata": {
  "kernelspec": {
   "display_name": "Python 3",
   "language": "python",
   "name": "python3"
  },
  "language_info": {
   "codemirror_mode": {
    "name": "ipython",
    "version": 3
   },
   "file_extension": ".py",
   "mimetype": "text/x-python",
   "name": "python",
   "nbconvert_exporter": "python",
   "pygments_lexer": "ipython3",
   "version": "3.7.3"
  }
 },
 "nbformat": 4,
 "nbformat_minor": 2
}
